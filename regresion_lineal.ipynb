{
 "cells": [
  {
   "cell_type": "markdown",
   "metadata": {},
   "source": [
    "# <span style=\"color:green\"><center>Diplomado de Inteligencia Artificial y Aprendizaje Profundo"
   ]
  },
  {
   "cell_type": "markdown",
   "metadata": {},
   "source": [
    "# <span style=\"color:red\"><center>Regresión lineal para la Inteligencia Artificial"
   ]
  },
  {
   "cell_type": "markdown",
   "metadata": {},
   "source": [
    "### <center>Presentado por:"
   ]
  },
  {
   "cell_type": "markdown",
   "metadata": {},
   "source": [
    "### <center>Oscar Javier Pérez Lora"
   ]
  },
  {
   "cell_type": "markdown",
   "metadata": {},
   "source": [
    "# <span style=\"color:blue\">Introducción"
   ]
  },
  {
   "cell_type": "markdown",
   "metadata": {},
   "source": [
    "La regresión lineal clásica es una metodología ampliamente utilizada por las diferentes disciplinas científicas, desde la física a la economía, pasando por la biología, la sociología o la ciencia política. El éxito de la regresión lineal bien se puede pensar en relación con la relativa facilidad de aplicación e interpretación frente a otras metodologías. \n",
    "\n",
    "Por ejemplo, en las ciencias sociales o la economía tanto como predecir es relevante interpertar las relaciones entre las variables. Podríamos plantear un modelo de regresión lineal cuya variable explicada sea la tasa de deserción escolar, explicada por otras variables como nivel educativo de los padres, ingreso monetario del hogar, historial académico, entre otros factores.\n",
    "\n",
    "El primer uso del modelo podría ser predecir la tasa de deserción escolar para los siguientes cinco años. No obstante, quizá sea más importante identificar y *cuantificar* la significancia de cada uno de los factores que inciden en el fenómeno, pues en la ejecución de la política pública será posible determinar cuáles son los factores que se deben tratar con mayor esfuerzo y prontitud. De igual manera, permite desarrollar medidas de impacto para las políticas públicas.\n",
    "\n",
    "Ahora bien, con la posibilidad tecnologica y disponibilidad de grandes volúmenes de datos ha irrumpido la inteligencia artificial y el aprendizaje profundo. En este nuevo escenario las técnicas de regresión tienen un papel muy importante en el desarrollo de la inteigencia artificial. Sin embargo, el uso de la regresión bajo estas nuevas condiciones implica cambios en el alcance y uso de los modelos de regresión lineal.\n",
    "\n",
    "En primer lugar, el alto volumen de datos implica que las tradicionales pruebas de hipótesis e intervalos de confianza carecen de sentido, pues debido a que la muestra es muy grande ($N \\rightarrow \\infty$) todos los parámetros resultan signifivativos. Por tanto, el análisis estructural de los parámetros y la interpretación de los mismos carece de sentido en este escenario. ¿Qué hacer? Depende del problema. Si la interpretación es el sentido del ejercicio de la regresión lineal, pueda que la inteligencia artificial no nos sea demasiado útil. Si el principal objetivo es predecir, entonces no hay mucho qué dicir... sería una nueva versión del ya conocido \"cállate y calcula\"."
   ]
  },
  {
   "cell_type": "markdown",
   "metadata": {},
   "source": [
    "# <span style=\"color:blue\">Breve historia"
   ]
  },
  {
   "cell_type": "markdown",
   "metadata": {},
   "source": [
    "Los inicios de la regresión lineal se encuentra ligada al desarrollo de la ciencia moderna, en particular, con la astronomía y el descubrimiento del planeta enano Ceres. El astrónomo italiano [Giuseppe Piazzi (1746-1826)](https://es.wikipedia.org/wiki/Giuseppe_Piazzi) descubrió este pequeño planeta y estuvo siguiendo su órbita por alrededor de 40 días. Sin embargo, se realizaron muchos intentos sin éxito por estimar su trayectoria con base en las observaciones de Piazzi.\n",
    "\n",
    "[![Ceres](https://th.bing.com/th/id/Rc79e70008cf071bbac04d38f2f4c8b50?rik=kC%2fXGsuXPvkjaw&pid=ImgRaw)](https://www.youtube.com/watch?v=JK4lRefWGis).\n",
    "\n",
    "[Carl Friedrich Gauss](https://es.wikipedia.org/wiki/Carl_Friedrich_Gauss) con solo 24 años le permitió a los astrónomos calcular con la suficiente precisión la órbita de Ceres y así volver a observarlo. El método que desarrolló Gauss fue el de Mínimos Cuadrados Ordinarios. A partir de allí este método se empezó a utilizar en muchos aspectos y la base conceptual del mismo se encuentra en el [teorema Gasuss-Márkov](https://es.wikipedia.org/wiki/Teorema_de_Gauss-M%C3%A1rkov). [Adrien-Marie Legendre](https://es.wikipedia.org/wiki/Adrien-Marie_Legendre) también publicó en 1805 un trabajo que fundamenta el uso de los Mínimos Cuadrados.\n",
    "\n",
    "En términos generales es la primera forma de regresión lineal, y a partir de allí se han dado los desarrollos posteriores. El objetivo de los Mínimos Cuadrados Odrdinarios consiste en encontrar una función que minimice el error cuadrático entre la variable dependiente y la variable estimada a través de las variables independientes.\n",
    "\n",
    "La regresión lineal puede clasificarse simple si solo existe una varible independiente, o múltiple si hay dos o más variables explicativas. En todo caso, la estructura de toda regresión se compone de una variable dependiente $Y$ (cuyo valor se quiere predecir y/o interpretar), una matriz de variables independientes $X$ y un término de error $\\epsilon$ (la diferencia entre el valor observado y el valor estimado por la función.\n",
    "\n",
    "$$\n",
    "Y = \\beta_0 + \\beta_1X + \\epsilon\n",
    "$$\n",
    "\n",
    "Los valores $\\beta_i$ son los parámetros estimados por medio del modelo con el fin de minimizar el error $\\epsilon$ de la ecuación. A continuación necesitamos definir un algoritmo que será el encargado de implementar la búsqueda de aquellos parámetros que minimizan los errores cuadráticos."
   ]
  },
  {
   "cell_type": "markdown",
   "metadata": {},
   "source": [
    "# <span style=\"color:blue\">Planteamiento del algoritmo"
   ]
  },
  {
   "cell_type": "markdown",
   "metadata": {},
   "source": [
    "## Mínimos Cuadrados Ordinarios\n",
    "\n",
    "Existe una variedad importante de algoritmos que permiten minimizar el error cuadrático. En nuestro caso haremos uso de Mínimos Cuadrados Ordinarios (MCO):\n",
    "\n",
    "$$\n",
    "\\beta = (X^TX)^{-1}X^TY\n",
    "$$\n",
    "\n",
    "en donde $X$ es la matriz de las variables explicativas y $Y$ la matriz de la variable dependiente o explicada. Para minimizar el error aplicamos la inversa al producto de la traspuesta de la matriz $X^T$ por la matriz $X$, por el producto de la matriz $X^T$ por la matriz de $Y$."
   ]
  },
  {
   "cell_type": "markdown",
   "metadata": {},
   "source": [
    "## Método descenso del gradiente\n",
    "\n",
    "Sin embargo, como se puede apreciar en la ecuación el cálculo de MCO se hace por matrices. Si tenemos un número relativamente bajo de parámetros a estimar no hay problema. Pero si tenemos miles, cientos de miles o incluso matrices con millones de parámetros, el cálculo de las matrices sobrepasará el límite computacional. Por este motivo se han desarrollado una serie de algoritmos que exigen menos recursos de cómputo.\n",
    "\n",
    "Uno de estos algoritmos es el método de descenso del gradiente, el cual permite optimizar la función que mide el error de predicción (llegar al valor mínimo), o función de coste $J(\\theta)$ por medio de un proceso iterativo. En términos generales el algoritmo calcula la derivada parcial de cada parámetro en un punto inicial. La derivada establece el valor y sentido en que se encuentra el mínimo más cercano, el cual se resta a cada uno de los parámetros por la velocidad de aprendizaje $\\alpha$. El valor de $\\alpha$ se establece entre 0-1 y debe calibrarse bien, pues un valor demasiado bajo haría que el algoritmo demorara mucho en encontrar el mínimo, y si es muy alto podría hacer que se salte el mínimo. Por otro lado, este algoritmo no distingue entre mínimo local o global, por lo que una solución pueda que no sea *la mejor* solución para minimizar el valor de la función de coste.\n",
    "\n",
    "El logaritmo sigue los  siguientes pasos:\n",
    "1. Establecer el valor de inicio de los parámetros $\\theta$\n",
    "2. Indicar el valor de $\\alpha$ o velocidad de parendizaje del algoritmo\n",
    "3. Obtener la derivada parcial de $J$ en el punto $\\theta$\n",
    "4. Restar al valor actual del parámetro la derivada por la velocidad de aprendizaje\n",
    "5. Actualizar el valor del parámetro $\\theta$ \n",
    "6. Comprobar si el nuevo valor de los parámetros es inferrior al criterio de parada\n",
    "7. En caso de que se cumpla 6 deterner el algoritmo, y en caso contrario repetir desde 3.\n",
    "\n",
    "> Si estamos mirando a la dirección correcta, lo único que tenemos que hacer es seguir caminando\" - Poverbio Zen."
   ]
  },
  {
   "cell_type": "markdown",
   "metadata": {},
   "source": [
    "# <span style=\"color:blue\">Ejemplo: coste de la vivienda en la ciudad de Boston"
   ]
  },
  {
   "cell_type": "markdown",
   "metadata": {},
   "source": [
    "Lo primero: importar y visualizar los datos."
   ]
  },
  {
   "cell_type": "code",
   "execution_count": 1,
   "metadata": {},
   "outputs": [],
   "source": [
    "import numpy as np\n",
    "import pandas as pd\n",
    "\n",
    "import matplotlib.pyplot as plt"
   ]
  },
  {
   "cell_type": "code",
   "execution_count": 2,
   "metadata": {},
   "outputs": [],
   "source": [
    "from sklearn.datasets import load_boston"
   ]
  },
  {
   "cell_type": "markdown",
   "metadata": {},
   "source": [
    "Se muestra las principales características de la base **boston**. Para nuestri ejemplo nos interesa explicar el valor promedio en miles de dólares de las viviendas que se encuentran en la ciudad de Boston, dada la variable"
   ]
  },
  {
   "cell_type": "code",
   "execution_count": 3,
   "metadata": {},
   "outputs": [
    {
     "name": "stdout",
     "output_type": "stream",
     "text": [
      ".. _boston_dataset:\n",
      "\n",
      "Boston house prices dataset\n",
      "---------------------------\n",
      "\n",
      "**Data Set Characteristics:**  \n",
      "\n",
      "    :Number of Instances: 506 \n",
      "\n",
      "    :Number of Attributes: 13 numeric/categorical predictive. Median Value (attribute 14) is usually the target.\n",
      "\n",
      "    :Attribute Information (in order):\n",
      "        - CRIM     per capita crime rate by town\n",
      "        - ZN       proportion of residential land zoned for lots over 25,000 sq.ft.\n",
      "        - INDUS    proportion of non-retail business acres per town\n",
      "        - CHAS     Charles River dummy variable (= 1 if tract bounds river; 0 otherwise)\n",
      "        - NOX      nitric oxides concentration (parts per 10 million)\n",
      "        - RM       average number of rooms per dwelling\n",
      "        - AGE      proportion of owner-occupied units built prior to 1940\n",
      "        - DIS      weighted distances to five Boston employment centres\n",
      "        - RAD      index of accessibility to radial highways\n",
      "        - TAX      full-value property-tax rate per $10,000\n",
      "        - PTRATIO  pupil-teacher ratio by town\n",
      "        - B        1000(Bk - 0.63)^2 where Bk is the proportion of blacks by town\n",
      "        - LSTAT    % lower status of the population\n",
      "        - MEDV     Median value of owner-occupied homes in $1000's\n",
      "\n",
      "    :Missing Attribute Values: None\n",
      "\n",
      "    :Creator: Harrison, D. and Rubinfeld, D.L.\n",
      "\n",
      "This is a copy of UCI ML housing dataset.\n",
      "https://archive.ics.uci.edu/ml/machine-learning-databases/housing/\n",
      "\n",
      "\n",
      "This dataset was taken from the StatLib library which is maintained at Carnegie Mellon University.\n",
      "\n",
      "The Boston house-price data of Harrison, D. and Rubinfeld, D.L. 'Hedonic\n",
      "prices and the demand for clean air', J. Environ. Economics & Management,\n",
      "vol.5, 81-102, 1978.   Used in Belsley, Kuh & Welsch, 'Regression diagnostics\n",
      "...', Wiley, 1980.   N.B. Various transformations are used in the table on\n",
      "pages 244-261 of the latter.\n",
      "\n",
      "The Boston house-price data has been used in many machine learning papers that address regression\n",
      "problems.   \n",
      "     \n",
      ".. topic:: References\n",
      "\n",
      "   - Belsley, Kuh & Welsch, 'Regression diagnostics: Identifying Influential Data and Sources of Collinearity', Wiley, 1980. 244-261.\n",
      "   - Quinlan,R. (1993). Combining Instance-Based and Model-Based Learning. In Proceedings on the Tenth International Conference of Machine Learning, 236-243, University of Massachusetts, Amherst. Morgan Kaufmann.\n",
      "\n"
     ]
    }
   ],
   "source": [
    "# cargue de la librería\n",
    "boston = load_boston()\n",
    "\n",
    "print(boston.DESCR)"
   ]
  },
  {
   "cell_type": "markdown",
   "metadata": {},
   "source": [
    "## Algoritmo de Mínimos Cuadrados Ordinarios (MCO)"
   ]
  },
  {
   "cell_type": "markdown",
   "metadata": {},
   "source": [
    "Pasamos ahora a realizar las operaciones del algoritmo MCO. En primer lugar calculamos el valor estimado de los parámetros."
   ]
  },
  {
   "cell_type": "code",
   "execution_count": 4,
   "metadata": {},
   "outputs": [
    {
     "name": "stdout",
     "output_type": "stream",
     "text": [
      "[-34.67062078   9.10210898]\n"
     ]
    },
    {
     "data": {
      "image/png": "[encoded data removed]",
      "text/plain": [
       "<Figure size 432x288 with 1 Axes>"
      ]
     },
     "metadata": {
      "needs_background": "light"
     },
     "output_type": "display_data"
    }
   ],
   "source": [
    "# crear matrices variable dependiente e independiente con np.array\n",
    "X = np.array(boston.data[:, 5])\n",
    "Y = np.array(boston.target)\n",
    "\n",
    "# gráfica de dispersión\n",
    "plt.scatter(X, Y, alpha = 0.3)\n",
    "\n",
    "# añadir columna de 1 para la constante de la ecuación\n",
    "X = np.array([np.ones(506), X]).T\n",
    "\n",
    "# operación entre matrices\n",
    "B = np.linalg.inv(X.T @ X) @ X.T @ Y\n",
    "print(B)\n",
    "\n",
    "plt.plot([4, 9], [B[0] + B[1] * 4, B[0] + B[1] * 9], c = \"red\")\n",
    "plt.show()"
   ]
  },
  {
   "cell_type": "markdown",
   "metadata": {},
   "source": [
    "Tenemos en la gráfica anterior la línea de regresión calculada por MCO. Encontramos que se incrementa el valor de la variable independiente, se incrementa el valor promedio en miles de dólares de las viviendas en la ciudad de Boston."
   ]
  },
  {
   "cell_type": "markdown",
   "metadata": {},
   "source": [
    "## Algoritmo del descenso del gradiente"
   ]
  },
  {
   "cell_type": "markdown",
   "metadata": {},
   "source": [
    "Aplicamos ahora el algoritmo del descenso del gradiente para minimizar la función de coste en el modelo del coste de vivienda en miles de dólares en la ciudad de Boston."
   ]
  },
  {
   "cell_type": "code",
   "execution_count": 5,
   "metadata": {},
   "outputs": [
    {
     "name": "stdout",
     "output_type": "stream",
     "text": [
      "Los valores que se obtienen son: 21.119866548599383 0.33156153336673255 en 299 pasos.\n"
     ]
    },
    {
     "data": {
      "image/png": "[encoded data removed]",
      "text/plain": [
       "<Figure size 432x288 with 1 Axes>"
      ]
     },
     "metadata": {
      "needs_background": "light"
     },
     "output_type": "display_data"
    }
   ],
   "source": [
    "X = boston.data[:, 5]\n",
    "Y = boston.target\n",
    "\n",
    "# Criterios\n",
    "num_steps = 300\n",
    "learningRate = 0.01\n",
    "criteria = 1e-8\n",
    "b_0 = 20\n",
    "b_1 = -34\n",
    "\n",
    "# Proceso iterativo\n",
    "for step in range(0, num_steps):\n",
    "    b_0_gradient = 0\n",
    "    b_1_gradient = 0\n",
    "    N = float(len(X))\n",
    "    for i in range(0, len(X)):\n",
    "        b_0_gradient -= (2/N) * (Y[i] - (b_0 + b_1 * X[i]))\n",
    "        b_1_gradient -= (2/N) * (Y[i] - (b_0 + b_1 * X[i])) * X[i]\n",
    "        \n",
    "    b_0 = b_0 - (learningRate * b_0_gradient)\n",
    "    b_1 = b_1 - (learningRate * b_1_gradient)\n",
    "    if max(abs(learningRate * b_0_gradient), abs(learningRate * b_1_gradient)) < criteria:\n",
    "        break\n",
    "    \n",
    "# Impresión de los resultados\n",
    "print(\"Los valores que se obtienen son:\", b_0, b_1, \"en\", step, \"pasos.\")\n",
    "\n",
    "# gráfica de dispersión\n",
    "plt.scatter(X, Y, alpha = 0.3)\n",
    "plt.plot([4, 9], [b_0 + b_1 * 4, b_0 + b_1 * 9], c = \"red\")\n",
    "plt.show()"
   ]
  },
  {
   "cell_type": "markdown",
   "metadata": {},
   "source": [
    "# <span style=\"color:blue\">Conclusiones"
   ]
  },
  {
   "cell_type": "markdown",
   "metadata": {},
   "source": [
    "Se hizo el cálculo de la regresión lineal tanto por MCO como por el algoritmo del gradiente descendiente. Sin embargo, se constata que los resultados entre ambos métodos son significativamente diferentes. En el caso del último algoritmo no da un buen ajuste."
   ]
  },
  {
   "cell_type": "markdown",
   "metadata": {},
   "source": [
    "## <span style = \"color:blue\">Bibliografía"
   ]
  },
  {
   "cell_type": "markdown",
   "metadata": {},
   "source": [
    "[Implementación del método descenso del gradiente en Python](https://www.analyticslane.com/2018/12/21/implementacion-del-metodo-descenso-del-gradiente-en-python/)\n",
    "\n",
    "[Regresión Lineal en español con Python](https://www.aprendemachinelearning.com/regresion-lineal-en-espanol-con-python/)\n",
    "\n",
    "[IA NOTEBOOK #3 | Descenso del Gradiente (Gradient Descent) | Programando IA](https://www.youtube.com/watch?v=-_A_AAxqzCg)"
   ]
  }
 ],
 "metadata": {
  "kernelspec": {
   "display_name": "Python 3",
   "language": "python",
   "name": "python3"
  },
  "language_info": {
   "codemirror_mode": {
    "name": "ipython",
    "version": 3
   },
   "file_extension": ".py",
   "mimetype": "text/x-python",
   "name": "python",
   "nbconvert_exporter": "python",
   "pygments_lexer": "ipython3",
   "version": "3.8.5"
  }
 },
 "nbformat": 4,
 "nbformat_minor": 4
}
